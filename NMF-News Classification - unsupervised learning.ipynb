{
 "cells": [
  {
   "cell_type": "markdown",
   "metadata": {
    "collapsed": true
   },
   "source": [
    "# Topic Modeling Assessment Project"
   ]
  },
  {
   "cell_type": "code",
   "execution_count": 2,
   "metadata": {},
   "outputs": [],
   "source": [
    "import pandas as pd"
   ]
  },
  {
   "cell_type": "code",
   "execution_count": 3,
   "metadata": {},
   "outputs": [],
   "source": [
    "df = pd.read_csv('ds_cat_head_descr.csv')"
   ]
  },
  {
   "cell_type": "code",
   "execution_count": 4,
   "metadata": {},
   "outputs": [
    {
     "data": {
      "text/html": [
       "<div>\n",
       "<style scoped>\n",
       "    .dataframe tbody tr th:only-of-type {\n",
       "        vertical-align: middle;\n",
       "    }\n",
       "\n",
       "    .dataframe tbody tr th {\n",
       "        vertical-align: top;\n",
       "    }\n",
       "\n",
       "    .dataframe thead th {\n",
       "        text-align: right;\n",
       "    }\n",
       "</style>\n",
       "<table border=\"1\" class=\"dataframe\">\n",
       "  <thead>\n",
       "    <tr style=\"text-align: right;\">\n",
       "      <th></th>\n",
       "      <th>category</th>\n",
       "      <th>head_descr</th>\n",
       "    </tr>\n",
       "  </thead>\n",
       "  <tbody>\n",
       "    <tr>\n",
       "      <th>0</th>\n",
       "      <td>CRIME</td>\n",
       "      <td>there were 2 mass shootings in teas last week,...</td>\n",
       "    </tr>\n",
       "    <tr>\n",
       "      <th>1</th>\n",
       "      <td>ENTERTAINMENT</td>\n",
       "      <td>hugh grant marries for the first time at age 5...</td>\n",
       "    </tr>\n",
       "    <tr>\n",
       "      <th>2</th>\n",
       "      <td>ENTERTAINMENT</td>\n",
       "      <td>jim carrey blasts 'castrato' adam schiff and d...</td>\n",
       "    </tr>\n",
       "    <tr>\n",
       "      <th>3</th>\n",
       "      <td>ENTERTAINMENT</td>\n",
       "      <td>julianna margulies uses donald trump poop bags...</td>\n",
       "    </tr>\n",
       "    <tr>\n",
       "      <th>4</th>\n",
       "      <td>ENTERTAINMENT</td>\n",
       "      <td>morgan freeman 'devastated' that seual harassm...</td>\n",
       "    </tr>\n",
       "  </tbody>\n",
       "</table>\n",
       "</div>"
      ],
      "text/plain": [
       "        category                                         head_descr\n",
       "0          CRIME  there were 2 mass shootings in teas last week,...\n",
       "1  ENTERTAINMENT  hugh grant marries for the first time at age 5...\n",
       "2  ENTERTAINMENT  jim carrey blasts 'castrato' adam schiff and d...\n",
       "3  ENTERTAINMENT  julianna margulies uses donald trump poop bags...\n",
       "4  ENTERTAINMENT  morgan freeman 'devastated' that seual harassm..."
      ]
     },
     "execution_count": 4,
     "metadata": {},
     "output_type": "execute_result"
    }
   ],
   "source": [
    "df.head()"
   ]
  },
  {
   "cell_type": "markdown",
   "metadata": {},
   "source": [
    "# Preprocessing\n",
    "\n",
    "#### Task: Use TF-IDF Vectorization to create a vectorized document term matrix. You may want to explore the max_df and min_df parameters."
   ]
  },
  {
   "cell_type": "code",
   "execution_count": 5,
   "metadata": {},
   "outputs": [],
   "source": [
    "from sklearn.feature_extraction.text import TfidfVectorizer"
   ]
  },
  {
   "cell_type": "code",
   "execution_count": 6,
   "metadata": {},
   "outputs": [],
   "source": [
    "tfidf = TfidfVectorizer(max_df=0.95, min_df=1, stop_words='english')"
   ]
  },
  {
   "cell_type": "code",
   "execution_count": 7,
   "metadata": {},
   "outputs": [],
   "source": [
    "dtm = tfidf.fit_transform(df['head_descr'])"
   ]
  },
  {
   "cell_type": "code",
   "execution_count": 8,
   "metadata": {},
   "outputs": [
    {
     "data": {
      "text/plain": [
       "<148982x76968 sparse matrix of type '<class 'numpy.float64'>'\n",
       "\twith 2393412 stored elements in Compressed Sparse Row format>"
      ]
     },
     "execution_count": 8,
     "metadata": {},
     "output_type": "execute_result"
    }
   ],
   "source": [
    "dtm"
   ]
  },
  {
   "cell_type": "code",
   "execution_count": 9,
   "metadata": {},
   "outputs": [
    {
     "data": {
      "text/plain": [
       "76968"
      ]
     },
     "execution_count": 9,
     "metadata": {},
     "output_type": "execute_result"
    }
   ],
   "source": [
    "len(tfidf.get_feature_names())"
   ]
  },
  {
   "cell_type": "code",
   "execution_count": 10,
   "metadata": {},
   "outputs": [
    {
     "name": "stdout",
     "output_type": "stream",
     "text": [
      "00\n"
     ]
    }
   ],
   "source": [
    "print(tfidf.get_feature_names()[0])"
   ]
  },
  {
   "cell_type": "markdown",
   "metadata": {},
   "source": [
    "# Non-negative Matrix Factorization\n",
    "\n",
    "#### TASK: Using Scikit-Learn create an instance of NMF with 41 expected components. (Use random_state=42)."
   ]
  },
  {
   "cell_type": "code",
   "execution_count": 11,
   "metadata": {},
   "outputs": [],
   "source": [
    "from sklearn.decomposition import NMF"
   ]
  },
  {
   "cell_type": "code",
   "execution_count": 12,
   "metadata": {},
   "outputs": [],
   "source": [
    "nmf_model = NMF(n_components=41,random_state=42)"
   ]
  },
  {
   "cell_type": "code",
   "execution_count": 13,
   "metadata": {},
   "outputs": [
    {
     "data": {
      "text/plain": [
       "NMF(alpha=0.0, beta_loss='frobenius', init=None, l1_ratio=0.0, max_iter=200,\n",
       "    n_components=41, random_state=42, shuffle=False, solver='cd', tol=0.0001,\n",
       "    verbose=0)"
      ]
     },
     "execution_count": 13,
     "metadata": {},
     "output_type": "execute_result"
    }
   ],
   "source": [
    "nmf_model.fit(dtm)"
   ]
  },
  {
   "cell_type": "markdown",
   "metadata": {},
   "source": [
    "#### TASK: Print our the top 15 most common words for each of the 41 topics."
   ]
  },
  {
   "cell_type": "code",
   "execution_count": 14,
   "metadata": {
    "scrolled": true
   },
   "outputs": [
    {
     "name": "stdout",
     "output_type": "stream",
     "text": [
      "THE TOP 15 WORDS FOR TOPIC #0\n",
      "['tips', 'sleep', 'maintaining', 'prayers', 'meditations', 'spiritual', 'mindful', 'awareness', 'personal', 'meditation', 'hope', 'practice', 'daily', 'help', 'need']\n",
      "\n",
      "\n",
      "THE TOP 15 WORDS FOR TOPIC #1\n",
      "['election', 'presidency', 'doesn', 'america', 'supporters', 'news', 'russia', 'stephen', 'ban', 'colbert', 'administration', 'president', 'campaign', 'donald', 'trump']\n",
      "\n",
      "\n",
      "THE TOP 15 WORDS FOR TOPIC #2\n",
      "['album', 'shows', 'trailer', 'book', 'report', 'resolutions', 'hampshire', 'orleans', 'fashion', 'jersey', 'study', 'times', 'city', 'york', 'new']\n",
      "\n",
      "\n",
      "THE TOP 15 WORDS FOR TOPIC #3\n",
      "['look', 'beauty', 'photo', 'say', 'stylelist', 'huffpoststyle', 'instagram', 'sure', 'style', 'tumblr', 'huffpost', 'pinterest', 'check', 'facebook', 'twitter']\n",
      "\n",
      "\n",
      "THE TOP 15 WORDS FOR TOPIC #4\n",
      "['ladies', 'assault', 'abortion', '20', 'young', 'violence', 'gender', 'rights', 'female', 'march', 'girls', 'seual', 'woman', 'men', 'women']\n",
      "\n",
      "\n",
      "THE TOP 15 WORDS FOR TOPIC #5\n",
      "['honor', 'national', 'today', 'happy', 'labor', 'celebrate', 'gift', 'memorial', 'craft', 'mom', 'wedding', 'father', 'valentine', 'mother', 'day']\n",
      "\n",
      "\n",
      "THE TOP 15 WORDS FOR TOPIC #6\n",
      "['polls', '2016', 'primary', 'huffpollster', 'voters', 'supporters', 'election', 'presidential', 'debate', 'campaign', 'democratic', 'bernie', 'sanders', 'hillary', 'clinton']\n",
      "\n",
      "\n",
      "THE TOP 15 WORDS FOR TOPIC #7\n",
      "['gop', 'americans', 'better', 'senate', 'repeal', 'public', 'patients', 'medical', 'act', 'affordable', 'obamacare', 'insurance', 'mental', 'care', 'health']\n",
      "\n",
      "\n",
      "THE TOP 15 WORDS FOR TOPIC #8\n",
      "['beautiful', 'true', 'wedding', 'letter', 'person', 'fall', 'share', 'loving', 'story', 'valentine', 'hate', 'self', 'heart', 'relationship', 'love']\n",
      "\n",
      "\n",
      "THE TOP 15 WORDS FOR TOPIC #9\n",
      "['community', 'lgbt', 'color', 'help', '000', 'lgbtq', 'country', 'trans', 'social', 'lives', 'killed', 'lot', 'million', 'young', 'people']\n",
      "\n",
      "\n",
      "THE TOP 15 WORDS FOR TOPIC #10\n",
      "['epect', 'understand', 'ts', 'talk', 'ask', 'work', 'forget', 'say', 'try', 'worry', 'believe', 'feel', 'tell', 'let', 'don']\n",
      "\n",
      "\n",
      "THE TOP 15 WORDS FOR TOPIC #11\n",
      "['doesn', 'sounds', 'evening', 'dose', 'cheeky', 'huffpost', 'sign', 'read', 'felt', 'feels', 'hill', 'feel', 'look', 'looks', 'like']\n",
      "\n",
      "\n",
      "THE TOP 15 WORDS FOR TOPIC #12\n",
      "['raising', 'adults', 'mother', 'young', 'ways', 'teach', 'moms', 'mom', 'divorce', 'parent', 'parenting', 'child', 'parents', 'children', 'kids']\n",
      "\n",
      "\n",
      "THE TOP 15 WORDS FOR TOPIC #13\n",
      "['12', '11', 'net', 'boy', '2016', '2013', 'eve', 'resolution', '2014', 'daughter', 'son', 'girl', 'resolutions', 'old', 'year']\n",
      "\n",
      "\n",
      "THE TOP 15 WORDS FOR TOPIC #14\n",
      "['cancer', 'balance', 'ways', 'lives', 'important', 'moment', 'eperience', 'lessons', 'death', 'happiness', 'work', 'real', 'living', 'live', 'life']\n",
      "\n",
      "\n",
      "THE TOP 15 WORDS FOR TOPIC #15\n",
      "['tips', 'right', 'great', 'spent', 'come', 'holidays', 'stop', 'start', 'summer', 'money', 'net', 'work', 'long', 'spend', 'time']\n",
      "\n",
      "\n",
      "THE TOP 15 WORDS FOR TOPIC #16\n",
      "['girl', 'police', 'live', 'super', 'youtube', 'viral', 'baby', 'night', 'star', 'music', 'game', 'man', 'shows', 'watch', 'video']\n",
      "\n",
      "\n",
      "THE TOP 15 WORDS FOR TOPIC #17\n",
      "['did', 'aren', 'going', 'maybe', 'away', 'days', 'thing', 'right', 'mean', 'doesn', 'let', 'got', 'little', 'isn', 'just']\n",
      "\n",
      "\n",
      "THE TOP 15 WORDS FOR TOPIC #18\n",
      "['getting', 'ways', 'funniest', 'happen', 'stranger', 'right', 'lot', 'list', 'going', 'little', 'doing', 'learned', '10', 'say', 'things']\n",
      "\n",
      "\n",
      "THE TOP 15 WORDS FOR TOPIC #19\n",
      "['making', 'doesn', 'mistakes', 'easier', 'work', 'great', 'recipes', 'difference', 'easy', 'll', 'feel', 'sure', 'ways', 'better', 'make']\n",
      "\n",
      "\n",
      "THE TOP 15 WORDS FOR TOPIC #20\n",
      "['paul', 'spicer', 'staff', 'republicans', 'secretary', 'dinner', 'bannon', 'ryan', 'trump', 'supremacists', 'speaker', 'correspondents', 'press', 'white', 'house']\n",
      "\n",
      "\n",
      "THE TOP 15 WORDS FOR TOPIC #21\n",
      "['war', 'mr', 'policy', 'office', 'american', 'vice', 'administration', 'states', 'united', 'elect', 'america', 'michelle', 'barack', 'obama', 'president']\n",
      "\n",
      "\n",
      "THE TOP 15 WORDS FOR TOPIC #22\n",
      "['cup', 'place', 'live', 'country', 'social', 'travel', 'future', 'countries', 'paris', 'leaders', 'war', 'global', 'climate', 'change', 'world']\n",
      "\n",
      "\n",
      "THE TOP 15 WORDS FOR TOPIC #23\n",
      "['end', 'wanted', 'll', 'going', 'doesn', 'mom', 'wants', 'better', 'probably', 'right', 'thing', 'let', 'did', 'didn', 'know']\n",
      "\n",
      "\n",
      "THE TOP 15 WORDS FOR TOPIC #24\n",
      "['red', 'ideas', 'favorite', 'fashion', '2012', 'weekly', 'roundup', 'dress', 'finds', 'ebay', 'vintage', 'style', 'look', 'home', 'photos']\n",
      "\n",
      "\n",
      "THE TOP 15 WORDS FOR TOPIC #25\n",
      "['cities', 'places', 'summer', 'hotels', 'great', 'thing', 'friend', 'beauty', 'dressed', 'travel', '10', 'worst', 'list', 'america', 'best']\n",
      "\n",
      "\n",
      "THE TOP 15 WORDS FOR TOPIC #26\n",
      "['fall', 'fail', 'youtube', 'brilliant', 'videos', 'brighten', 'succinct', 'ladies', 'days', 'york', '20', 'tweets', 'funniest', 'fashion', 'week']\n",
      "\n",
      "\n",
      "THE TOP 15 WORDS FOR TOPIC #27\n",
      "['night', 'hill', 'job', 'reason', 'pretty', 'media', 'idea', 'feel', 'fake', 'sleep', 'thing', 'fo', 'bad', 'news', 'good']\n",
      "\n",
      "\n",
      "THE TOP 15 WORDS FOR TOPIC #28\n",
      "['rights', 'democratic', 'law', 'vote', 'ta', 'election', 'senate', 'democrats', 'republican', 'party', 'supreme', 'republicans', 'state', 'court', 'gop']\n",
      "\n",
      "\n",
      "THE TOP 15 WORDS FOR TOPIC #29\n",
      "['director', 'won', 'woman', 'study', 'fo', 'korea', 'report', 'host', 'north', 'wants', 'll', 'doesn', 'seual', 'star', 'says']\n",
      "\n",
      "\n",
      "THE TOP 15 WORDS FOR TOPIC #30\n",
      "['si', '000', '30', 'american', 'today', '50', 'old', 'later', 'marriage', 'past', '20', '10', 'cancer', 'ago', 'years']\n",
      "\n",
      "\n",
      "THE TOP 15 WORDS FOR TOPIC #31\n",
      "['wrong', 'travel', 'times', 'big', 'probably', 'lost', 'thing', 'lot', 'come', 'learned', 'heard', 'wedding', 'seen', 'got', 've']\n",
      "\n",
      "\n",
      "THE TOP 15 WORDS FOR TOPIC #32\n",
      "['middle', 'university', 'summer', 'shooting', 'gun', 'public', 'teacher', 'teachers', 'schools', 'student', 'education', 'college', 'students', 'high', 'school']\n",
      "\n",
      "\n",
      "THE TOP 15 WORDS FOR TOPIC #33\n",
      "['relationship', 'ask', 'right', 'live', 'start', 'stop', 'change', 'look', 'happy', 'hear', 'didn', 'sure', 'll', 'doesn', 'want']\n",
      "\n",
      "\n",
      "THE TOP 15 WORDS FOR TOPIC #34\n",
      "['let', 'self', 'come', 'different', 'body', 'easy', 'hard', 'wrong', 'great', 'feel', 'work', 'right', 'long', 'better', 'way']\n",
      "\n",
      "\n",
      "THE TOP 15 WORDS FOR TOPIC #35\n",
      "['better', 'twice', 'actually', 'thing', 'poll', 'mind', 'easier', 'problem', 'right', 'doesn', 'lot', 'going', 'didn', 'americans', 'think']\n",
      "\n",
      "\n",
      "THE TOP 15 WORDS FOR TOPIC #36\n",
      "['cooking', 'wine', 'america', 'waste', 'restaurants', 'recipes', 'diet', '10', 'weight', 'fast', 'foods', 'eating', 'healthy', 'eat', 'food']\n",
      "\n",
      "\n",
      "THE TOP 15 WORDS FOR TOPIC #37\n",
      "['little', 'stress', 'gift', 'let', 'vacation', 'tips', 'summer', 'thanksgiving', 'holidays', 'travel', 'friends', 'christmas', 'season', 'holiday', 'family']\n",
      "\n",
      "\n",
      "THE TOP 15 WORDS FOR TOPIC #38\n",
      "['didn', 'yes', 'mom', 'hard', 'bad', 'tell', 'question', 'isn', 'wants', 'did', 'mean', 'doesn', 'does', 'going', 'really']\n",
      "\n",
      "\n",
      "THE TOP 15 WORDS FOR TOPIC #39\n",
      "['community', 'americans', 'woman', 'white', 'panther', 'american', 'men', 'man', 'history', 'friday', 'police', 'matter', 'america', 'lives', 'black']\n",
      "\n",
      "\n",
      "THE TOP 15 WORDS FOR TOPIC #40\n",
      "['violence', 'dead', 'attorney', 'attack', 'death', 'seual', 'killed', 'didn', 'say', 'gun', 'woman', 'shooting', 'man', 'police', 'said']\n",
      "\n",
      "\n"
     ]
    }
   ],
   "source": [
    "for index,topic in enumerate(nmf_model.components_):\n",
    "    print(f'THE TOP 15 WORDS FOR TOPIC #{index}')\n",
    "    print([tfidf.get_feature_names()[i] for i in topic.argsort()[-15:]])\n",
    "    print('\\n')"
   ]
  },
  {
   "cell_type": "markdown",
   "metadata": {},
   "source": [
    "#### TASK: Add a new column to the original dataframe that labels each question into one of the 41 topic categories."
   ]
  },
  {
   "cell_type": "code",
   "execution_count": 15,
   "metadata": {
    "scrolled": true
   },
   "outputs": [
    {
     "data": {
      "text/html": [
       "<div>\n",
       "<style scoped>\n",
       "    .dataframe tbody tr th:only-of-type {\n",
       "        vertical-align: middle;\n",
       "    }\n",
       "\n",
       "    .dataframe tbody tr th {\n",
       "        vertical-align: top;\n",
       "    }\n",
       "\n",
       "    .dataframe thead th {\n",
       "        text-align: right;\n",
       "    }\n",
       "</style>\n",
       "<table border=\"1\" class=\"dataframe\">\n",
       "  <thead>\n",
       "    <tr style=\"text-align: right;\">\n",
       "      <th></th>\n",
       "      <th>category</th>\n",
       "      <th>head_descr</th>\n",
       "    </tr>\n",
       "  </thead>\n",
       "  <tbody>\n",
       "    <tr>\n",
       "      <th>0</th>\n",
       "      <td>CRIME</td>\n",
       "      <td>there were 2 mass shootings in teas last week,...</td>\n",
       "    </tr>\n",
       "    <tr>\n",
       "      <th>1</th>\n",
       "      <td>ENTERTAINMENT</td>\n",
       "      <td>hugh grant marries for the first time at age 5...</td>\n",
       "    </tr>\n",
       "    <tr>\n",
       "      <th>2</th>\n",
       "      <td>ENTERTAINMENT</td>\n",
       "      <td>jim carrey blasts 'castrato' adam schiff and d...</td>\n",
       "    </tr>\n",
       "    <tr>\n",
       "      <th>3</th>\n",
       "      <td>ENTERTAINMENT</td>\n",
       "      <td>julianna margulies uses donald trump poop bags...</td>\n",
       "    </tr>\n",
       "    <tr>\n",
       "      <th>4</th>\n",
       "      <td>ENTERTAINMENT</td>\n",
       "      <td>morgan freeman 'devastated' that seual harassm...</td>\n",
       "    </tr>\n",
       "  </tbody>\n",
       "</table>\n",
       "</div>"
      ],
      "text/plain": [
       "        category                                         head_descr\n",
       "0          CRIME  there were 2 mass shootings in teas last week,...\n",
       "1  ENTERTAINMENT  hugh grant marries for the first time at age 5...\n",
       "2  ENTERTAINMENT  jim carrey blasts 'castrato' adam schiff and d...\n",
       "3  ENTERTAINMENT  julianna margulies uses donald trump poop bags...\n",
       "4  ENTERTAINMENT  morgan freeman 'devastated' that seual harassm..."
      ]
     },
     "execution_count": 15,
     "metadata": {},
     "output_type": "execute_result"
    }
   ],
   "source": [
    "df.head()"
   ]
  },
  {
   "cell_type": "code",
   "execution_count": 16,
   "metadata": {},
   "outputs": [],
   "source": [
    "topic_results = nmf_model.transform(dtm)"
   ]
  },
  {
   "cell_type": "code",
   "execution_count": 17,
   "metadata": {},
   "outputs": [
    {
     "data": {
      "text/html": [
       "<div>\n",
       "<style scoped>\n",
       "    .dataframe tbody tr th:only-of-type {\n",
       "        vertical-align: middle;\n",
       "    }\n",
       "\n",
       "    .dataframe tbody tr th {\n",
       "        vertical-align: top;\n",
       "    }\n",
       "\n",
       "    .dataframe thead th {\n",
       "        text-align: right;\n",
       "    }\n",
       "</style>\n",
       "<table border=\"1\" class=\"dataframe\">\n",
       "  <thead>\n",
       "    <tr style=\"text-align: right;\">\n",
       "      <th></th>\n",
       "      <th>category</th>\n",
       "      <th>head_descr</th>\n",
       "      <th>Topic</th>\n",
       "    </tr>\n",
       "  </thead>\n",
       "  <tbody>\n",
       "    <tr>\n",
       "      <th>0</th>\n",
       "      <td>CRIME</td>\n",
       "      <td>there were 2 mass shootings in teas last week,...</td>\n",
       "      <td>17</td>\n",
       "    </tr>\n",
       "    <tr>\n",
       "      <th>1</th>\n",
       "      <td>ENTERTAINMENT</td>\n",
       "      <td>hugh grant marries for the first time at age 5...</td>\n",
       "      <td>15</td>\n",
       "    </tr>\n",
       "    <tr>\n",
       "      <th>2</th>\n",
       "      <td>ENTERTAINMENT</td>\n",
       "      <td>jim carrey blasts 'castrato' adam schiff and d...</td>\n",
       "      <td>1</td>\n",
       "    </tr>\n",
       "    <tr>\n",
       "      <th>3</th>\n",
       "      <td>ENTERTAINMENT</td>\n",
       "      <td>julianna margulies uses donald trump poop bags...</td>\n",
       "      <td>38</td>\n",
       "    </tr>\n",
       "    <tr>\n",
       "      <th>4</th>\n",
       "      <td>ENTERTAINMENT</td>\n",
       "      <td>morgan freeman 'devastated' that seual harassm...</td>\n",
       "      <td>40</td>\n",
       "    </tr>\n",
       "    <tr>\n",
       "      <th>5</th>\n",
       "      <td>ENTERTAINMENT</td>\n",
       "      <td>donald trump is lovin' new mcdonald's jingle i...</td>\n",
       "      <td>1</td>\n",
       "    </tr>\n",
       "    <tr>\n",
       "      <th>6</th>\n",
       "      <td>ENTERTAINMENT</td>\n",
       "      <td>what to watch on amazon prime that’s new this ...</td>\n",
       "      <td>26</td>\n",
       "    </tr>\n",
       "    <tr>\n",
       "      <th>7</th>\n",
       "      <td>ENTERTAINMENT</td>\n",
       "      <td>mike myers reveals he'd 'like to' do a fourth ...</td>\n",
       "      <td>2</td>\n",
       "    </tr>\n",
       "    <tr>\n",
       "      <th>8</th>\n",
       "      <td>ENTERTAINMENT</td>\n",
       "      <td>what to watch on hulu that’s new this week you...</td>\n",
       "      <td>26</td>\n",
       "    </tr>\n",
       "    <tr>\n",
       "      <th>9</th>\n",
       "      <td>ENTERTAINMENT</td>\n",
       "      <td>justin timberlake visits teas school shooting ...</td>\n",
       "      <td>32</td>\n",
       "    </tr>\n",
       "  </tbody>\n",
       "</table>\n",
       "</div>"
      ],
      "text/plain": [
       "        category                                         head_descr  Topic\n",
       "0          CRIME  there were 2 mass shootings in teas last week,...     17\n",
       "1  ENTERTAINMENT  hugh grant marries for the first time at age 5...     15\n",
       "2  ENTERTAINMENT  jim carrey blasts 'castrato' adam schiff and d...      1\n",
       "3  ENTERTAINMENT  julianna margulies uses donald trump poop bags...     38\n",
       "4  ENTERTAINMENT  morgan freeman 'devastated' that seual harassm...     40\n",
       "5  ENTERTAINMENT  donald trump is lovin' new mcdonald's jingle i...      1\n",
       "6  ENTERTAINMENT  what to watch on amazon prime that’s new this ...     26\n",
       "7  ENTERTAINMENT  mike myers reveals he'd 'like to' do a fourth ...      2\n",
       "8  ENTERTAINMENT  what to watch on hulu that’s new this week you...     26\n",
       "9  ENTERTAINMENT  justin timberlake visits teas school shooting ...     32"
      ]
     },
     "execution_count": 17,
     "metadata": {},
     "output_type": "execute_result"
    }
   ],
   "source": [
    "topic_results.argmax(axis=1)\n",
    "\n",
    "df['Topic'] = topic_results.argmax(axis=1)\n",
    "\n",
    "df.head(10)"
   ]
  },
  {
   "cell_type": "code",
   "execution_count": 20,
   "metadata": {},
   "outputs": [
    {
     "data": {
      "text/html": [
       "<div>\n",
       "<style scoped>\n",
       "    .dataframe tbody tr th:only-of-type {\n",
       "        vertical-align: middle;\n",
       "    }\n",
       "\n",
       "    .dataframe tbody tr th {\n",
       "        vertical-align: top;\n",
       "    }\n",
       "\n",
       "    .dataframe thead th {\n",
       "        text-align: right;\n",
       "    }\n",
       "</style>\n",
       "<table border=\"1\" class=\"dataframe\">\n",
       "  <thead>\n",
       "    <tr style=\"text-align: right;\">\n",
       "      <th></th>\n",
       "      <th>category</th>\n",
       "      <th>head_descr</th>\n",
       "      <th>Topic</th>\n",
       "    </tr>\n",
       "  </thead>\n",
       "  <tbody>\n",
       "    <tr>\n",
       "      <th>0</th>\n",
       "      <td>CRIME</td>\n",
       "      <td>there were 2 mass shootings in teas last week,...</td>\n",
       "      <td>17</td>\n",
       "    </tr>\n",
       "    <tr>\n",
       "      <th>28</th>\n",
       "      <td>CRIME</td>\n",
       "      <td>rachel dolezal faces felony charges for welfar...</td>\n",
       "      <td>28</td>\n",
       "    </tr>\n",
       "    <tr>\n",
       "      <th>36</th>\n",
       "      <td>CRIME</td>\n",
       "      <td>man faces charges after pulling knife, stun gu...</td>\n",
       "      <td>40</td>\n",
       "    </tr>\n",
       "    <tr>\n",
       "      <th>38</th>\n",
       "      <td>CRIME</td>\n",
       "      <td>2 people injured in indiana school shooting a ...</td>\n",
       "      <td>32</td>\n",
       "    </tr>\n",
       "    <tr>\n",
       "      <th>179</th>\n",
       "      <td>CRIME</td>\n",
       "      <td>maryland police charge 3 church leaders with p...</td>\n",
       "      <td>40</td>\n",
       "    </tr>\n",
       "    <tr>\n",
       "      <th>219</th>\n",
       "      <td>CRIME</td>\n",
       "      <td>florida police report 2 dead after standoff at...</td>\n",
       "      <td>40</td>\n",
       "    </tr>\n",
       "    <tr>\n",
       "      <th>304</th>\n",
       "      <td>CRIME</td>\n",
       "      <td>'this isn’t pakistan, bitch': video captures d...</td>\n",
       "      <td>16</td>\n",
       "    </tr>\n",
       "    <tr>\n",
       "      <th>349</th>\n",
       "      <td>CRIME</td>\n",
       "      <td>these are the victims of the santa fe high sch...</td>\n",
       "      <td>32</td>\n",
       "    </tr>\n",
       "    <tr>\n",
       "      <th>396</th>\n",
       "      <td>CRIME</td>\n",
       "      <td>hospice overdosed patients to 'hasten their de...</td>\n",
       "      <td>7</td>\n",
       "    </tr>\n",
       "    <tr>\n",
       "      <th>398</th>\n",
       "      <td>CRIME</td>\n",
       "      <td>former wwf wrestler severely beaten outside ca...</td>\n",
       "      <td>38</td>\n",
       "    </tr>\n",
       "  </tbody>\n",
       "</table>\n",
       "</div>"
      ],
      "text/plain": [
       "    category                                         head_descr  Topic\n",
       "0      CRIME  there were 2 mass shootings in teas last week,...     17\n",
       "28     CRIME  rachel dolezal faces felony charges for welfar...     28\n",
       "36     CRIME  man faces charges after pulling knife, stun gu...     40\n",
       "38     CRIME  2 people injured in indiana school shooting a ...     32\n",
       "179    CRIME  maryland police charge 3 church leaders with p...     40\n",
       "219    CRIME  florida police report 2 dead after standoff at...     40\n",
       "304    CRIME  'this isn’t pakistan, bitch': video captures d...     16\n",
       "349    CRIME  these are the victims of the santa fe high sch...     32\n",
       "396    CRIME  hospice overdosed patients to 'hasten their de...      7\n",
       "398    CRIME  former wwf wrestler severely beaten outside ca...     38"
      ]
     },
     "execution_count": 20,
     "metadata": {},
     "output_type": "execute_result"
    }
   ],
   "source": [
    "df[df['category']=='CRIME'].head(10)"
   ]
  },
  {
   "cell_type": "code",
   "execution_count": 21,
   "metadata": {},
   "outputs": [
    {
     "data": {
      "text/html": [
       "<div>\n",
       "<style scoped>\n",
       "    .dataframe tbody tr th:only-of-type {\n",
       "        vertical-align: middle;\n",
       "    }\n",
       "\n",
       "    .dataframe tbody tr th {\n",
       "        vertical-align: top;\n",
       "    }\n",
       "\n",
       "    .dataframe thead th {\n",
       "        text-align: right;\n",
       "    }\n",
       "</style>\n",
       "<table border=\"1\" class=\"dataframe\">\n",
       "  <thead>\n",
       "    <tr style=\"text-align: right;\">\n",
       "      <th></th>\n",
       "      <th>category</th>\n",
       "      <th>head_descr</th>\n",
       "      <th>Topic</th>\n",
       "    </tr>\n",
       "  </thead>\n",
       "  <tbody>\n",
       "    <tr>\n",
       "      <th>33</th>\n",
       "      <td>COMEDY</td>\n",
       "      <td>trump's new 'maga'-themed swimwear sinks on tw...</td>\n",
       "      <td>19</td>\n",
       "    </tr>\n",
       "    <tr>\n",
       "      <th>48</th>\n",
       "      <td>ENTERTAINMENT</td>\n",
       "      <td>hollywood doesn't need 'difficult' men to make...</td>\n",
       "      <td>19</td>\n",
       "    </tr>\n",
       "    <tr>\n",
       "      <th>61</th>\n",
       "      <td>POLITICS</td>\n",
       "      <td>trump's new eecutive orders make it easier to ...</td>\n",
       "      <td>19</td>\n",
       "    </tr>\n",
       "    <tr>\n",
       "      <th>112</th>\n",
       "      <td>POLITICS</td>\n",
       "      <td>cynthia nion vows to keep fighting after (pred...</td>\n",
       "      <td>19</td>\n",
       "    </tr>\n",
       "    <tr>\n",
       "      <th>273</th>\n",
       "      <td>POLITICS</td>\n",
       "      <td>judge orders teas to make voter registration e...</td>\n",
       "      <td>19</td>\n",
       "    </tr>\n",
       "    <tr>\n",
       "      <th>388</th>\n",
       "      <td>POLITICS</td>\n",
       "      <td>sen. dean heller’s campaign paid his social me...</td>\n",
       "      <td>19</td>\n",
       "    </tr>\n",
       "    <tr>\n",
       "      <th>417</th>\n",
       "      <td>POLITICS</td>\n",
       "      <td>business groups might be quietly killing a bil...</td>\n",
       "      <td>19</td>\n",
       "    </tr>\n",
       "    <tr>\n",
       "      <th>423</th>\n",
       "      <td>POLITICS</td>\n",
       "      <td>facing farm bill vote problems, gop leaders ma...</td>\n",
       "      <td>19</td>\n",
       "    </tr>\n",
       "    <tr>\n",
       "      <th>440</th>\n",
       "      <td>IMPACT</td>\n",
       "      <td>the battle to save our dying soil this camp in...</td>\n",
       "      <td>19</td>\n",
       "    </tr>\n",
       "    <tr>\n",
       "      <th>464</th>\n",
       "      <td>ENTERTAINMENT</td>\n",
       "      <td>gq epertly spoofs vanity fair with their annua...</td>\n",
       "      <td>19</td>\n",
       "    </tr>\n",
       "  </tbody>\n",
       "</table>\n",
       "</div>"
      ],
      "text/plain": [
       "          category                                         head_descr  Topic\n",
       "33          COMEDY  trump's new 'maga'-themed swimwear sinks on tw...     19\n",
       "48   ENTERTAINMENT  hollywood doesn't need 'difficult' men to make...     19\n",
       "61        POLITICS  trump's new eecutive orders make it easier to ...     19\n",
       "112       POLITICS  cynthia nion vows to keep fighting after (pred...     19\n",
       "273       POLITICS  judge orders teas to make voter registration e...     19\n",
       "388       POLITICS  sen. dean heller’s campaign paid his social me...     19\n",
       "417       POLITICS  business groups might be quietly killing a bil...     19\n",
       "423       POLITICS  facing farm bill vote problems, gop leaders ma...     19\n",
       "440         IMPACT  the battle to save our dying soil this camp in...     19\n",
       "464  ENTERTAINMENT  gq epertly spoofs vanity fair with their annua...     19"
      ]
     },
     "execution_count": 21,
     "metadata": {},
     "output_type": "execute_result"
    }
   ],
   "source": [
    "df[df['Topic']==19].head(10)"
   ]
  },
  {
   "cell_type": "code",
   "execution_count": null,
   "metadata": {},
   "outputs": [],
   "source": []
  }
 ],
 "metadata": {
  "kernelspec": {
   "display_name": "Python 3",
   "language": "python",
   "name": "python3"
  },
  "language_info": {
   "codemirror_mode": {
    "name": "ipython",
    "version": 3
   },
   "file_extension": ".py",
   "mimetype": "text/x-python",
   "name": "python",
   "nbconvert_exporter": "python",
   "pygments_lexer": "ipython3",
   "version": "3.7.6"
  }
 },
 "nbformat": 4,
 "nbformat_minor": 2
}

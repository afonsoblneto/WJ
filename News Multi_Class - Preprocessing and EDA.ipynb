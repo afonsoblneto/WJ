{
 "cells": [
  {
   "cell_type": "markdown",
   "metadata": {},
   "source": [
    "# Importing packages"
   ]
  },
  {
   "cell_type": "code",
   "execution_count": 2,
   "metadata": {},
   "outputs": [
    {
     "name": "stderr",
     "output_type": "stream",
     "text": [
      "E:\\WinPython\\python-3.7.6.amd64\\lib\\site-packages\\tqdm\\std.py:658: FutureWarning: The Panel class is removed from pandas. Accessing it from the top-level namespace will also be removed in the next version\n",
      "  from pandas import Panel\n"
     ]
    }
   ],
   "source": [
    "import pandas as pd\n",
    "import numpy as np\n",
    "from tqdm import tqdm\n",
    "tqdm.pandas(desc=\"progress-bar\")\n",
    "from gensim.models import Doc2Vec\n",
    "from sklearn import utils\n",
    "from sklearn.model_selection import train_test_split\n",
    "import gensim\n",
    "from sklearn.linear_model import LogisticRegression\n",
    "from gensim.models.doc2vec import TaggedDocument\n",
    "import re\n",
    "import seaborn as sns\n",
    "import matplotlib.pyplot as plt\n",
    "import json"
   ]
  },
  {
   "cell_type": "code",
   "execution_count": 3,
   "metadata": {},
   "outputs": [
    {
     "name": "stdout",
     "output_type": "stream",
     "text": [
      "<class 'pandas.core.frame.DataFrame'>\n",
      "RangeIndex: 200852 entries, 0 to 200851\n",
      "Data columns (total 6 columns):\n",
      "category             200852 non-null object\n",
      "headline             200852 non-null object\n",
      "authors              200852 non-null object\n",
      "link                 200852 non-null object\n",
      "short_description    200852 non-null object\n",
      "date                 200852 non-null object\n",
      "dtypes: object(6)\n",
      "memory usage: 9.2+ MB\n"
     ]
    }
   ],
   "source": [
    "data = [json.loads(line) for line in open('News_Category_Dataset_v2.json', 'r')]\n",
    "df = pd.DataFrame(data)\n",
    "df.info()"
   ]
  },
  {
   "cell_type": "markdown",
   "metadata": {},
   "source": [
    "# Preprocessing"
   ]
  },
  {
   "cell_type": "code",
   "execution_count": 174,
   "metadata": {},
   "outputs": [],
   "source": [
    "data = [json.loads(line) for line in open('News_Category_Dataset_v2.json', 'r')]\n",
    "df = pd.DataFrame(data)\n",
    "df.drop(df.loc[df['authors']==''].index, inplace=True)\n",
    "df.drop(df.loc[df['headline']==''].index, inplace=True)\n",
    "df.drop(df.loc[df['short_description']==''].index, inplace=True)\n",
    "df['head_descr']=df.headline+' '+df.short_description\n",
    "df = df[pd.notnull(df['head_descr'])]\n",
    "df['year'] = pd.to_datetime(df.date).dt.year"
   ]
  },
  {
   "cell_type": "code",
   "execution_count": 175,
   "metadata": {},
   "outputs": [],
   "source": [
    "from bs4 import BeautifulSoup\n",
    "def cleanText(text):\n",
    "    text = BeautifulSoup(text, \"lxml\").text\n",
    "    text = re.sub(r'\\|\\|\\|', r' ', text) \n",
    "    text = re.sub(r'http\\S+', r'<URL>', text)\n",
    "    text = text.lower()\n",
    "    text = text.replace('x', '')\n",
    "    return text\n",
    "df['head_descr'] = df['head_descr'].apply(cleanText)"
   ]
  },
  {
   "cell_type": "markdown",
   "metadata": {},
   "source": [
    "# Exploratory Data Analysis (EDA)"
   ]
  },
  {
   "cell_type": "code",
   "execution_count": 176,
   "metadata": {},
   "outputs": [
    {
     "data": {
      "text/plain": [
       "category             0\n",
       "headline             0\n",
       "authors              0\n",
       "link                 0\n",
       "short_description    0\n",
       "date                 0\n",
       "head_descr           0\n",
       "year                 0\n",
       "dtype: int64"
      ]
     },
     "execution_count": 176,
     "metadata": {},
     "output_type": "execute_result"
    }
   ],
   "source": [
    "df.isna().sum()"
   ]
  },
  {
   "cell_type": "code",
   "execution_count": 177,
   "metadata": {},
   "outputs": [
    {
     "name": "stdout",
     "output_type": "stream",
     "text": [
      "<class 'pandas.core.frame.DataFrame'>\n",
      "Int64Index: 148982 entries, 0 to 200847\n",
      "Data columns (total 8 columns):\n",
      "category             148982 non-null object\n",
      "headline             148982 non-null object\n",
      "authors              148982 non-null object\n",
      "link                 148982 non-null object\n",
      "short_description    148982 non-null object\n",
      "date                 148982 non-null object\n",
      "head_descr           148982 non-null object\n",
      "year                 148982 non-null int64\n",
      "dtypes: int64(1), object(7)\n",
      "memory usage: 10.2+ MB\n"
     ]
    }
   ],
   "source": [
    "df.info()"
   ]
  },
  {
   "cell_type": "markdown",
   "metadata": {},
   "source": [
    "No null values"
   ]
  },
  {
   "cell_type": "code",
   "execution_count": 178,
   "metadata": {},
   "outputs": [
    {
     "name": "stdout",
     "output_type": "stream",
     "text": [
      "There are 4771193 words in the head_descr colmun\n"
     ]
    }
   ],
   "source": [
    "wordsCount = df['head_descr'].apply(lambda x: len(x.split(' '))).sum()\n",
    "print(\"There are \"+str(wordsCount)+\" words in the head_descr colmun\")"
   ]
  },
  {
   "cell_type": "code",
   "execution_count": 179,
   "metadata": {},
   "outputs": [
    {
     "data": {
      "text/html": [
       "<div>\n",
       "<style scoped>\n",
       "    .dataframe tbody tr th:only-of-type {\n",
       "        vertical-align: middle;\n",
       "    }\n",
       "\n",
       "    .dataframe tbody tr th {\n",
       "        vertical-align: top;\n",
       "    }\n",
       "\n",
       "    .dataframe thead th {\n",
       "        text-align: right;\n",
       "    }\n",
       "</style>\n",
       "<table border=\"1\" class=\"dataframe\">\n",
       "  <thead>\n",
       "    <tr style=\"text-align: right;\">\n",
       "      <th></th>\n",
       "      <th>category</th>\n",
       "      <th>headline</th>\n",
       "      <th>authors</th>\n",
       "      <th>link</th>\n",
       "      <th>short_description</th>\n",
       "      <th>date</th>\n",
       "      <th>head_descr</th>\n",
       "      <th>year</th>\n",
       "    </tr>\n",
       "  </thead>\n",
       "  <tbody>\n",
       "    <tr>\n",
       "      <th>0</th>\n",
       "      <td>CRIME</td>\n",
       "      <td>There Were 2 Mass Shootings In Texas Last Week...</td>\n",
       "      <td>Melissa Jeltsen</td>\n",
       "      <td>https://www.huffingtonpost.com/entry/texas-ama...</td>\n",
       "      <td>She left her husband. He killed their children...</td>\n",
       "      <td>2018-05-26</td>\n",
       "      <td>there were 2 mass shootings in teas last week,...</td>\n",
       "      <td>2018</td>\n",
       "    </tr>\n",
       "    <tr>\n",
       "      <th>1</th>\n",
       "      <td>ENTERTAINMENT</td>\n",
       "      <td>Hugh Grant Marries For The First Time At Age 57</td>\n",
       "      <td>Ron Dicker</td>\n",
       "      <td>https://www.huffingtonpost.com/entry/hugh-gran...</td>\n",
       "      <td>The actor and his longtime girlfriend Anna Ebe...</td>\n",
       "      <td>2018-05-26</td>\n",
       "      <td>hugh grant marries for the first time at age 5...</td>\n",
       "      <td>2018</td>\n",
       "    </tr>\n",
       "    <tr>\n",
       "      <th>2</th>\n",
       "      <td>ENTERTAINMENT</td>\n",
       "      <td>Jim Carrey Blasts 'Castrato' Adam Schiff And D...</td>\n",
       "      <td>Ron Dicker</td>\n",
       "      <td>https://www.huffingtonpost.com/entry/jim-carre...</td>\n",
       "      <td>The actor gives Dems an ass-kicking for not fi...</td>\n",
       "      <td>2018-05-26</td>\n",
       "      <td>jim carrey blasts 'castrato' adam schiff and d...</td>\n",
       "      <td>2018</td>\n",
       "    </tr>\n",
       "    <tr>\n",
       "      <th>3</th>\n",
       "      <td>ENTERTAINMENT</td>\n",
       "      <td>Julianna Margulies Uses Donald Trump Poop Bags...</td>\n",
       "      <td>Ron Dicker</td>\n",
       "      <td>https://www.huffingtonpost.com/entry/julianna-...</td>\n",
       "      <td>The \"Dietland\" actress said using the bags is ...</td>\n",
       "      <td>2018-05-26</td>\n",
       "      <td>julianna margulies uses donald trump poop bags...</td>\n",
       "      <td>2018</td>\n",
       "    </tr>\n",
       "    <tr>\n",
       "      <th>4</th>\n",
       "      <td>ENTERTAINMENT</td>\n",
       "      <td>Morgan Freeman 'Devastated' That Sexual Harass...</td>\n",
       "      <td>Ron Dicker</td>\n",
       "      <td>https://www.huffingtonpost.com/entry/morgan-fr...</td>\n",
       "      <td>\"It is not right to equate horrific incidents ...</td>\n",
       "      <td>2018-05-26</td>\n",
       "      <td>morgan freeman 'devastated' that seual harassm...</td>\n",
       "      <td>2018</td>\n",
       "    </tr>\n",
       "  </tbody>\n",
       "</table>\n",
       "</div>"
      ],
      "text/plain": [
       "        category                                           headline          authors                                               link                                  short_description        date                                         head_descr  year\n",
       "0          CRIME  There Were 2 Mass Shootings In Texas Last Week...  Melissa Jeltsen  https://www.huffingtonpost.com/entry/texas-ama...  She left her husband. He killed their children...  2018-05-26  there were 2 mass shootings in teas last week,...  2018\n",
       "1  ENTERTAINMENT    Hugh Grant Marries For The First Time At Age 57       Ron Dicker  https://www.huffingtonpost.com/entry/hugh-gran...  The actor and his longtime girlfriend Anna Ebe...  2018-05-26  hugh grant marries for the first time at age 5...  2018\n",
       "2  ENTERTAINMENT  Jim Carrey Blasts 'Castrato' Adam Schiff And D...       Ron Dicker  https://www.huffingtonpost.com/entry/jim-carre...  The actor gives Dems an ass-kicking for not fi...  2018-05-26  jim carrey blasts 'castrato' adam schiff and d...  2018\n",
       "3  ENTERTAINMENT  Julianna Margulies Uses Donald Trump Poop Bags...       Ron Dicker  https://www.huffingtonpost.com/entry/julianna-...  The \"Dietland\" actress said using the bags is ...  2018-05-26  julianna margulies uses donald trump poop bags...  2018\n",
       "4  ENTERTAINMENT  Morgan Freeman 'Devastated' That Sexual Harass...       Ron Dicker  https://www.huffingtonpost.com/entry/morgan-fr...  \"It is not right to equate horrific incidents ...  2018-05-26  morgan freeman 'devastated' that seual harassm...  2018"
      ]
     },
     "execution_count": 179,
     "metadata": {},
     "output_type": "execute_result"
    }
   ],
   "source": [
    "df.head()"
   ]
  },
  {
   "cell_type": "code",
   "execution_count": 180,
   "metadata": {},
   "outputs": [],
   "source": [
    "df.index = range(df.shape[0])"
   ]
  },
  {
   "cell_type": "markdown",
   "metadata": {},
   "source": [
    "## Analysing category"
   ]
  },
  {
   "cell_type": "code",
   "execution_count": 181,
   "metadata": {},
   "outputs": [
    {
     "data": {
      "image/png": "[encoded data removed]",
      "text/plain": [
       "<Figure size 864x432 with 1 Axes>"
      ]
     },
     "metadata": {
      "needs_background": "light"
     },
     "output_type": "display_data"
    }
   ],
   "source": [
    "cnt_pro = df['category'].value_counts()\n",
    "\n",
    "plt.figure(figsize=(12,6))\n",
    "sns.barplot(cnt_pro.index, cnt_pro.values, alpha=0.8)\n",
    "plt.ylabel('Number of Occurrences', fontsize=12)\n",
    "plt.xlabel('Category', fontsize=12)\n",
    "plt.xticks(rotation=90)\n",
    "plt.show();"
   ]
  },
  {
   "cell_type": "markdown",
   "metadata": {},
   "source": [
    "Here we have a skewed distribution. Often this affects the classification algorithms. "
   ]
  },
  {
   "cell_type": "code",
   "execution_count": 182,
   "metadata": {},
   "outputs": [
    {
     "name": "stdout",
     "output_type": "stream",
     "text": [
      "Categories - absolute values\n",
      "POLITICS          26913\n",
      "WELLNESS          12827\n",
      "ENTERTAINMENT     12191\n",
      "TRAVEL             8011\n",
      "STYLE & BEAUTY     7111\n",
      "PARENTING          6408\n",
      "HEALTHY LIVING     5072\n",
      "QUEER VOICES       4669\n",
      "FOOD & DRINK       4413\n",
      "BUSINESS           4320\n",
      "COMEDY             3709\n",
      "PARENTS            3491\n",
      "SPORTS             3445\n",
      "HOME & LIVING      3398\n",
      "BLACK VOICES       3260\n",
      "IMPACT             2920\n",
      "WOMEN              2840\n",
      "THE WORLDPOST      2198\n",
      "MEDIA              1976\n",
      "CRIME              1960\n",
      "TASTE              1891\n",
      "WEIRD NEWS         1890\n",
      "WORLD NEWS         1824\n",
      "RELIGION           1761\n",
      "WEDDINGS           1703\n",
      "DIVORCE            1695\n",
      "GREEN              1682\n",
      "TECH               1659\n",
      "STYLE              1535\n",
      "MONEY              1492\n",
      "SCIENCE            1404\n",
      "ARTS & CULTURE     1307\n",
      "WORLDPOST          1242\n",
      "FIFTY              1042\n",
      "GOOD NEWS           917\n",
      "EDUCATION           885\n",
      "LATINO VOICES       877\n",
      "ARTS                863\n",
      "COLLEGE             860\n",
      "ENVIRONMENT         670\n",
      "CULTURE & ARTS      651\n",
      "Name: category, dtype: int64\n"
     ]
    }
   ],
   "source": [
    "dfCategory = df['category'].value_counts()\n",
    "print(\"Categories - absolute values\")\n",
    "print(df['category'].value_counts())"
   ]
  },
  {
   "cell_type": "code",
   "execution_count": 183,
   "metadata": {},
   "outputs": [
    {
     "name": "stdout",
     "output_type": "stream",
     "text": [
      "Categories - percentage values\n",
      "POLITICS          18.06\n",
      "WELLNESS           8.61\n",
      "ENTERTAINMENT      8.18\n",
      "TRAVEL             5.38\n",
      "STYLE & BEAUTY     4.77\n",
      "PARENTING          4.30\n",
      "HEALTHY LIVING     3.40\n",
      "QUEER VOICES       3.13\n",
      "FOOD & DRINK       2.96\n",
      "BUSINESS           2.90\n",
      "COMEDY             2.49\n",
      "PARENTS            2.34\n",
      "SPORTS             2.31\n",
      "HOME & LIVING      2.28\n",
      "BLACK VOICES       2.19\n",
      "IMPACT             1.96\n",
      "WOMEN              1.91\n",
      "THE WORLDPOST      1.48\n",
      "MEDIA              1.33\n",
      "CRIME              1.32\n",
      "TASTE              1.27\n",
      "WEIRD NEWS         1.27\n",
      "WORLD NEWS         1.22\n",
      "RELIGION           1.18\n",
      "WEDDINGS           1.14\n",
      "DIVORCE            1.14\n",
      "GREEN              1.13\n",
      "TECH               1.11\n",
      "STYLE              1.03\n",
      "MONEY              1.00\n",
      "SCIENCE            0.94\n",
      "ARTS & CULTURE     0.88\n",
      "WORLDPOST          0.83\n",
      "FIFTY              0.70\n",
      "GOOD NEWS          0.62\n",
      "EDUCATION          0.59\n",
      "LATINO VOICES      0.59\n",
      "ARTS               0.58\n",
      "COLLEGE            0.58\n",
      "ENVIRONMENT        0.45\n",
      "CULTURE & ARTS     0.44\n",
      "Name: category, dtype: float64\n"
     ]
    }
   ],
   "source": [
    "print(\"Categories - percentage values\")\n",
    "print(round((df['category'].value_counts()/df['category'].count())*100,2))"
   ]
  },
  {
   "cell_type": "markdown",
   "metadata": {},
   "source": [
    "An imbalanced classification problem is an example of a classification problem where the distribution of examples across the known classes is biased or skewed. As we can see, almost 50% of data are distributed in just 7 of 41 categories. This results in models that have poor predictive performance, specifically for the minority class."
   ]
  },
  {
   "cell_type": "code",
   "execution_count": 184,
   "metadata": {},
   "outputs": [
    {
     "data": {
      "text/plain": [
       "<matplotlib.axes._subplots.AxesSubplot at 0x21a00cc9b08>"
      ]
     },
     "execution_count": 184,
     "metadata": {},
     "output_type": "execute_result"
    },
    {
     "data": {
      "image/png": "[encoded data removed]",
      "text/plain": [
       "<Figure size 432x288 with 1 Axes>"
      ]
     },
     "metadata": {
      "needs_background": "light"
     },
     "output_type": "display_data"
    }
   ],
   "source": [
    "dfCategory.plot.box()"
   ]
  },
  {
   "cell_type": "markdown",
   "metadata": {},
   "source": [
    "Boxplot shows the first four categories as outliers."
   ]
  },
  {
   "cell_type": "markdown",
   "metadata": {},
   "source": [
    "## Categories by year"
   ]
  },
  {
   "cell_type": "code",
   "execution_count": 185,
   "metadata": {},
   "outputs": [],
   "source": [
    "count_series = df.groupby(['year', 'category']).size().sort_values().reset_index(name='count')"
   ]
  },
  {
   "cell_type": "markdown",
   "metadata": {},
   "source": [
    "### Top 5 categories by year"
   ]
  },
  {
   "cell_type": "code",
   "execution_count": 186,
   "metadata": {},
   "outputs": [
    {
     "data": {
      "text/html": [
       "<div>\n",
       "<style scoped>\n",
       "    .dataframe tbody tr th:only-of-type {\n",
       "        vertical-align: middle;\n",
       "    }\n",
       "\n",
       "    .dataframe tbody tr th {\n",
       "        vertical-align: top;\n",
       "    }\n",
       "\n",
       "    .dataframe thead th {\n",
       "        text-align: right;\n",
       "    }\n",
       "</style>\n",
       "<table border=\"1\" class=\"dataframe\">\n",
       "  <thead>\n",
       "    <tr style=\"text-align: right;\">\n",
       "      <th></th>\n",
       "      <th>year</th>\n",
       "      <th>category</th>\n",
       "      <th>count</th>\n",
       "    </tr>\n",
       "  </thead>\n",
       "  <tbody>\n",
       "    <tr>\n",
       "      <th>186</th>\n",
       "      <td>2018</td>\n",
       "      <td>POLITICS</td>\n",
       "      <td>3024</td>\n",
       "    </tr>\n",
       "    <tr>\n",
       "      <th>177</th>\n",
       "      <td>2018</td>\n",
       "      <td>ENTERTAINMENT</td>\n",
       "      <td>1706</td>\n",
       "    </tr>\n",
       "    <tr>\n",
       "      <th>111</th>\n",
       "      <td>2018</td>\n",
       "      <td>WORLD NEWS</td>\n",
       "      <td>481</td>\n",
       "    </tr>\n",
       "    <tr>\n",
       "      <th>105</th>\n",
       "      <td>2018</td>\n",
       "      <td>COMEDY</td>\n",
       "      <td>441</td>\n",
       "    </tr>\n",
       "    <tr>\n",
       "      <th>103</th>\n",
       "      <td>2018</td>\n",
       "      <td>QUEER VOICES</td>\n",
       "      <td>431</td>\n",
       "    </tr>\n",
       "    <tr>\n",
       "      <th>194</th>\n",
       "      <td>2017</td>\n",
       "      <td>POLITICS</td>\n",
       "      <td>10309</td>\n",
       "    </tr>\n",
       "    <tr>\n",
       "      <th>187</th>\n",
       "      <td>2017</td>\n",
       "      <td>ENTERTAINMENT</td>\n",
       "      <td>3154</td>\n",
       "    </tr>\n",
       "    <tr>\n",
       "      <th>173</th>\n",
       "      <td>2017</td>\n",
       "      <td>HEALTHY LIVING</td>\n",
       "      <td>1398</td>\n",
       "    </tr>\n",
       "    <tr>\n",
       "      <th>171</th>\n",
       "      <td>2017</td>\n",
       "      <td>WORLD NEWS</td>\n",
       "      <td>1343</td>\n",
       "    </tr>\n",
       "    <tr>\n",
       "      <th>169</th>\n",
       "      <td>2017</td>\n",
       "      <td>QUEER VOICES</td>\n",
       "      <td>1310</td>\n",
       "    </tr>\n",
       "    <tr>\n",
       "      <th>193</th>\n",
       "      <td>2016</td>\n",
       "      <td>POLITICS</td>\n",
       "      <td>8289</td>\n",
       "    </tr>\n",
       "    <tr>\n",
       "      <th>188</th>\n",
       "      <td>2016</td>\n",
       "      <td>ENTERTAINMENT</td>\n",
       "      <td>3204</td>\n",
       "    </tr>\n",
       "    <tr>\n",
       "      <th>163</th>\n",
       "      <td>2016</td>\n",
       "      <td>THE WORLDPOST</td>\n",
       "      <td>1159</td>\n",
       "    </tr>\n",
       "    <tr>\n",
       "      <th>161</th>\n",
       "      <td>2016</td>\n",
       "      <td>HEALTHY LIVING</td>\n",
       "      <td>1131</td>\n",
       "    </tr>\n",
       "    <tr>\n",
       "      <th>160</th>\n",
       "      <td>2016</td>\n",
       "      <td>SPORTS</td>\n",
       "      <td>1130</td>\n",
       "    </tr>\n",
       "    <tr>\n",
       "      <th>189</th>\n",
       "      <td>2015</td>\n",
       "      <td>POLITICS</td>\n",
       "      <td>3868</td>\n",
       "    </tr>\n",
       "    <tr>\n",
       "      <th>183</th>\n",
       "      <td>2015</td>\n",
       "      <td>ENTERTAINMENT</td>\n",
       "      <td>2618</td>\n",
       "    </tr>\n",
       "    <tr>\n",
       "      <th>170</th>\n",
       "      <td>2015</td>\n",
       "      <td>HEALTHY LIVING</td>\n",
       "      <td>1338</td>\n",
       "    </tr>\n",
       "    <tr>\n",
       "      <th>165</th>\n",
       "      <td>2015</td>\n",
       "      <td>BUSINESS</td>\n",
       "      <td>1218</td>\n",
       "    </tr>\n",
       "    <tr>\n",
       "      <th>159</th>\n",
       "      <td>2015</td>\n",
       "      <td>SPORTS</td>\n",
       "      <td>1106</td>\n",
       "    </tr>\n",
       "    <tr>\n",
       "      <th>178</th>\n",
       "      <td>2014</td>\n",
       "      <td>WELLNESS</td>\n",
       "      <td>1912</td>\n",
       "    </tr>\n",
       "    <tr>\n",
       "      <th>174</th>\n",
       "      <td>2014</td>\n",
       "      <td>POLITICS</td>\n",
       "      <td>1423</td>\n",
       "    </tr>\n",
       "    <tr>\n",
       "      <th>172</th>\n",
       "      <td>2014</td>\n",
       "      <td>TRAVEL</td>\n",
       "      <td>1390</td>\n",
       "    </tr>\n",
       "    <tr>\n",
       "      <th>164</th>\n",
       "      <td>2014</td>\n",
       "      <td>HEALTHY LIVING</td>\n",
       "      <td>1190</td>\n",
       "    </tr>\n",
       "    <tr>\n",
       "      <th>158</th>\n",
       "      <td>2014</td>\n",
       "      <td>PARENTING</td>\n",
       "      <td>1059</td>\n",
       "    </tr>\n",
       "    <tr>\n",
       "      <th>192</th>\n",
       "      <td>2013</td>\n",
       "      <td>WELLNESS</td>\n",
       "      <td>5650</td>\n",
       "    </tr>\n",
       "    <tr>\n",
       "      <th>185</th>\n",
       "      <td>2013</td>\n",
       "      <td>PARENTING</td>\n",
       "      <td>2951</td>\n",
       "    </tr>\n",
       "    <tr>\n",
       "      <th>184</th>\n",
       "      <td>2013</td>\n",
       "      <td>TRAVEL</td>\n",
       "      <td>2849</td>\n",
       "    </tr>\n",
       "    <tr>\n",
       "      <th>180</th>\n",
       "      <td>2013</td>\n",
       "      <td>STYLE &amp; BEAUTY</td>\n",
       "      <td>2356</td>\n",
       "    </tr>\n",
       "    <tr>\n",
       "      <th>179</th>\n",
       "      <td>2013</td>\n",
       "      <td>FOOD &amp; DRINK</td>\n",
       "      <td>2334</td>\n",
       "    </tr>\n",
       "    <tr>\n",
       "      <th>191</th>\n",
       "      <td>2012</td>\n",
       "      <td>WELLNESS</td>\n",
       "      <td>5265</td>\n",
       "    </tr>\n",
       "    <tr>\n",
       "      <th>190</th>\n",
       "      <td>2012</td>\n",
       "      <td>STYLE &amp; BEAUTY</td>\n",
       "      <td>3874</td>\n",
       "    </tr>\n",
       "    <tr>\n",
       "      <th>182</th>\n",
       "      <td>2012</td>\n",
       "      <td>TRAVEL</td>\n",
       "      <td>2560</td>\n",
       "    </tr>\n",
       "    <tr>\n",
       "      <th>181</th>\n",
       "      <td>2012</td>\n",
       "      <td>PARENTING</td>\n",
       "      <td>2398</td>\n",
       "    </tr>\n",
       "    <tr>\n",
       "      <th>175</th>\n",
       "      <td>2012</td>\n",
       "      <td>HOME &amp; LIVING</td>\n",
       "      <td>1549</td>\n",
       "    </tr>\n",
       "  </tbody>\n",
       "</table>\n",
       "</div>"
      ],
      "text/plain": [
       "     year        category  count\n",
       "186  2018        POLITICS   3024\n",
       "177  2018   ENTERTAINMENT   1706\n",
       "111  2018      WORLD NEWS    481\n",
       "105  2018          COMEDY    441\n",
       "103  2018    QUEER VOICES    431\n",
       "194  2017        POLITICS  10309\n",
       "187  2017   ENTERTAINMENT   3154\n",
       "173  2017  HEALTHY LIVING   1398\n",
       "171  2017      WORLD NEWS   1343\n",
       "169  2017    QUEER VOICES   1310\n",
       "193  2016        POLITICS   8289\n",
       "188  2016   ENTERTAINMENT   3204\n",
       "163  2016   THE WORLDPOST   1159\n",
       "161  2016  HEALTHY LIVING   1131\n",
       "160  2016          SPORTS   1130\n",
       "189  2015        POLITICS   3868\n",
       "183  2015   ENTERTAINMENT   2618\n",
       "170  2015  HEALTHY LIVING   1338\n",
       "165  2015        BUSINESS   1218\n",
       "159  2015          SPORTS   1106\n",
       "178  2014        WELLNESS   1912\n",
       "174  2014        POLITICS   1423\n",
       "172  2014          TRAVEL   1390\n",
       "164  2014  HEALTHY LIVING   1190\n",
       "158  2014       PARENTING   1059\n",
       "192  2013        WELLNESS   5650\n",
       "185  2013       PARENTING   2951\n",
       "184  2013          TRAVEL   2849\n",
       "180  2013  STYLE & BEAUTY   2356\n",
       "179  2013    FOOD & DRINK   2334\n",
       "191  2012        WELLNESS   5265\n",
       "190  2012  STYLE & BEAUTY   3874\n",
       "182  2012          TRAVEL   2560\n",
       "181  2012       PARENTING   2398\n",
       "175  2012   HOME & LIVING   1549"
      ]
     },
     "execution_count": 186,
     "metadata": {},
     "output_type": "execute_result"
    }
   ],
   "source": [
    "dfTop5=count_series.sort_values(['year', 'count'],  ascending = [False, False]).groupby('year').head(5) \n",
    "dfTop5"
   ]
  },
  {
   "cell_type": "markdown",
   "metadata": {},
   "source": [
    "### Some useful information"
   ]
  },
  {
   "cell_type": "markdown",
   "metadata": {},
   "source": [
    "Since 2015 POLITICS and ENTERTAINMENT are the TOP two categories. Until 2014 they didn't appear in the TOP 5 list."
   ]
  },
  {
   "cell_type": "markdown",
   "metadata": {},
   "source": [
    "WELLNESS was the TOP category until 2014. Since 2015 it didn't in the TOP 5 categories."
   ]
  },
  {
   "cell_type": "markdown",
   "metadata": {},
   "source": [
    "## Analysing Authors"
   ]
  },
  {
   "cell_type": "code",
   "execution_count": 187,
   "metadata": {},
   "outputs": [
    {
     "name": "stdout",
     "output_type": "stream",
     "text": [
      "Top 20 Authors - absolute values\n",
      "Lee Moran                2423\n",
      "Ron Dicker               1762\n",
      "Reuters, Reuters         1562\n",
      "Ed Mazza                 1194\n",
      "Cole Delbyck             1140\n",
      "Julia Brucculieri        1054\n",
      "Andy McDonald            1001\n",
      "Mary Papenfuss            974\n",
      "Carly Ledbetter           962\n",
      "Curtis M. Wong            890\n",
      "Michelle Manetti          876\n",
      "Nina Golgowski            868\n",
      "Ellie Krupnick            860\n",
      "Dana Oliver               831\n",
      "David Moye                806\n",
      "Sam Levine                778\n",
      "James Michael Nichols     762\n",
      "Bill Bradley              751\n",
      "Michelle Persad           732\n",
      "Igor Bobic                731\n",
      "Name: authors, dtype: int64\n"
     ]
    }
   ],
   "source": [
    "dfAuthors = df['authors'].value_counts()\n",
    "print(\"Top 20 Authors - absolute values\")\n",
    "print(dfAuthors.head(20))"
   ]
  },
  {
   "cell_type": "code",
   "execution_count": 188,
   "metadata": {},
   "outputs": [
    {
     "name": "stdout",
     "output_type": "stream",
     "text": [
      "Top 20 Authors - percentage values\n",
      "Lee Moran                1.63\n",
      "Ron Dicker               1.18\n",
      "Reuters, Reuters         1.05\n",
      "Ed Mazza                 0.80\n",
      "Cole Delbyck             0.77\n",
      "Julia Brucculieri        0.71\n",
      "Andy McDonald            0.67\n",
      "Mary Papenfuss           0.65\n",
      "Carly Ledbetter          0.65\n",
      "Curtis M. Wong           0.60\n",
      "Michelle Manetti         0.59\n",
      "Nina Golgowski           0.58\n",
      "Ellie Krupnick           0.58\n",
      "Dana Oliver              0.56\n",
      "David Moye               0.54\n",
      "Sam Levine               0.52\n",
      "James Michael Nichols    0.51\n",
      "Bill Bradley             0.50\n",
      "Michelle Persad          0.49\n",
      "Igor Bobic               0.49\n",
      "Name: authors, dtype: float64\n"
     ]
    }
   ],
   "source": [
    "print(\"Top 20 Authors - percentage values\")\n",
    "print(round((df['authors'].value_counts()/df['authors'].count())*100,2).head(20))"
   ]
  },
  {
   "cell_type": "code",
   "execution_count": 189,
   "metadata": {},
   "outputs": [
    {
     "name": "stdout",
     "output_type": "stream",
     "text": [
      "Total Authors: 148982\n",
      "50 Top Authors - percentage values: 25.02% of the total\n",
      "100 Top Authors - percentage values: 35.0% of the total\n",
      "500 Top Authors - percentage values: 55.0% of the total\n"
     ]
    }
   ],
   "source": [
    "print(\"Total Authors: \"+str(df['authors'].count()))\n",
    "print(\"50 Top Authors - percentage values: \" + str(round(((df['authors'].value_counts().head(50)/\n",
    "                                                           df['authors'].count())*100).sum(),2)) + \n",
    "      \"% of the total\")\n",
    "print(\"100 Top Authors - percentage values: \" + str(round(((df['authors'].value_counts().head(100)/\n",
    "                                                           df['authors'].count())*100).sum(),2)) + \n",
    "      \"% of the total\")\n",
    "print(\"500 Top Authors - percentage values: \" + str(round(((df['authors'].value_counts().head(500)/\n",
    "                                                           df['authors'].count())*100).sum(),2)) + \n",
    "      \"% of the total\")\n"
   ]
  },
  {
   "cell_type": "code",
   "execution_count": 190,
   "metadata": {},
   "outputs": [
    {
     "data": {
      "text/plain": [
       "<matplotlib.axes._subplots.AxesSubplot at 0x21a00be6e48>"
      ]
     },
     "execution_count": 190,
     "metadata": {},
     "output_type": "execute_result"
    },
    {
     "data": {
      "image/png": "[encoded data removed]",
      "text/plain": [
       "<Figure size 432x288 with 1 Axes>"
      ]
     },
     "metadata": {
      "needs_background": "light"
     },
     "output_type": "display_data"
    }
   ],
   "source": [
    "dfAuthors.plot.box()"
   ]
  },
  {
   "cell_type": "markdown",
   "metadata": {},
   "source": [
    "## Author by year"
   ]
  },
  {
   "cell_type": "code",
   "execution_count": 191,
   "metadata": {},
   "outputs": [],
   "source": [
    "count_series = df.groupby(['year', 'authors']).size().sort_values().reset_index(name='count')"
   ]
  },
  {
   "cell_type": "markdown",
   "metadata": {},
   "source": [
    "### Top 5 authors by year"
   ]
  },
  {
   "cell_type": "code",
   "execution_count": 192,
   "metadata": {},
   "outputs": [
    {
     "data": {
      "text/html": [
       "<div>\n",
       "<style scoped>\n",
       "    .dataframe tbody tr th:only-of-type {\n",
       "        vertical-align: middle;\n",
       "    }\n",
       "\n",
       "    .dataframe tbody tr th {\n",
       "        vertical-align: top;\n",
       "    }\n",
       "\n",
       "    .dataframe thead th {\n",
       "        text-align: right;\n",
       "    }\n",
       "</style>\n",
       "<table border=\"1\" class=\"dataframe\">\n",
       "  <thead>\n",
       "    <tr style=\"text-align: right;\">\n",
       "      <th></th>\n",
       "      <th>year</th>\n",
       "      <th>authors</th>\n",
       "      <th>count</th>\n",
       "    </tr>\n",
       "  </thead>\n",
       "  <tbody>\n",
       "    <tr>\n",
       "      <th>35182</th>\n",
       "      <td>2018</td>\n",
       "      <td>Lee Moran</td>\n",
       "      <td>634</td>\n",
       "    </tr>\n",
       "    <tr>\n",
       "      <th>35173</th>\n",
       "      <td>2018</td>\n",
       "      <td>Ed Mazza</td>\n",
       "      <td>402</td>\n",
       "    </tr>\n",
       "    <tr>\n",
       "      <th>35171</th>\n",
       "      <td>2018</td>\n",
       "      <td>Ron Dicker</td>\n",
       "      <td>390</td>\n",
       "    </tr>\n",
       "    <tr>\n",
       "      <th>35156</th>\n",
       "      <td>2018</td>\n",
       "      <td>Mary Papenfuss</td>\n",
       "      <td>306</td>\n",
       "    </tr>\n",
       "    <tr>\n",
       "      <th>35142</th>\n",
       "      <td>2018</td>\n",
       "      <td>Jenna Amatulli</td>\n",
       "      <td>269</td>\n",
       "    </tr>\n",
       "    <tr>\n",
       "      <th>35186</th>\n",
       "      <td>2017</td>\n",
       "      <td>Lee Moran</td>\n",
       "      <td>867</td>\n",
       "    </tr>\n",
       "    <tr>\n",
       "      <th>35181</th>\n",
       "      <td>2017</td>\n",
       "      <td>Mary Papenfuss</td>\n",
       "      <td>614</td>\n",
       "    </tr>\n",
       "    <tr>\n",
       "      <th>35176</th>\n",
       "      <td>2017</td>\n",
       "      <td>Ron Dicker</td>\n",
       "      <td>505</td>\n",
       "    </tr>\n",
       "    <tr>\n",
       "      <th>35172</th>\n",
       "      <td>2017</td>\n",
       "      <td>Ed Mazza</td>\n",
       "      <td>392</td>\n",
       "    </tr>\n",
       "    <tr>\n",
       "      <th>35167</th>\n",
       "      <td>2017</td>\n",
       "      <td>Caroline Bologna</td>\n",
       "      <td>341</td>\n",
       "    </tr>\n",
       "    <tr>\n",
       "      <th>35185</th>\n",
       "      <td>2016</td>\n",
       "      <td>Lee Moran</td>\n",
       "      <td>818</td>\n",
       "    </tr>\n",
       "    <tr>\n",
       "      <th>35180</th>\n",
       "      <td>2016</td>\n",
       "      <td>Cole Delbyck</td>\n",
       "      <td>556</td>\n",
       "    </tr>\n",
       "    <tr>\n",
       "      <th>35178</th>\n",
       "      <td>2016</td>\n",
       "      <td>Ron Dicker</td>\n",
       "      <td>545</td>\n",
       "    </tr>\n",
       "    <tr>\n",
       "      <th>35177</th>\n",
       "      <td>2016</td>\n",
       "      <td>Julia Brucculieri</td>\n",
       "      <td>544</td>\n",
       "    </tr>\n",
       "    <tr>\n",
       "      <th>35174</th>\n",
       "      <td>2016</td>\n",
       "      <td>Carly Ledbetter</td>\n",
       "      <td>440</td>\n",
       "    </tr>\n",
       "    <tr>\n",
       "      <th>35159</th>\n",
       "      <td>2015</td>\n",
       "      <td>Julia Brucculieri</td>\n",
       "      <td>313</td>\n",
       "    </tr>\n",
       "    <tr>\n",
       "      <th>35124</th>\n",
       "      <td>2015</td>\n",
       "      <td>Bill Bradley</td>\n",
       "      <td>231</td>\n",
       "    </tr>\n",
       "    <tr>\n",
       "      <th>35123</th>\n",
       "      <td>2015</td>\n",
       "      <td>Lily Karlin</td>\n",
       "      <td>226</td>\n",
       "    </tr>\n",
       "    <tr>\n",
       "      <th>35118</th>\n",
       "      <td>2015</td>\n",
       "      <td>Ron Dicker</td>\n",
       "      <td>211</td>\n",
       "    </tr>\n",
       "    <tr>\n",
       "      <th>35092</th>\n",
       "      <td>2015</td>\n",
       "      <td>Andy McDonald</td>\n",
       "      <td>185</td>\n",
       "    </tr>\n",
       "    <tr>\n",
       "      <th>35082</th>\n",
       "      <td>2014</td>\n",
       "      <td>Reuters, Reuters</td>\n",
       "      <td>167</td>\n",
       "    </tr>\n",
       "    <tr>\n",
       "      <th>35033</th>\n",
       "      <td>2014</td>\n",
       "      <td>Dana Oliver</td>\n",
       "      <td>131</td>\n",
       "    </tr>\n",
       "    <tr>\n",
       "      <th>35030</th>\n",
       "      <td>2014</td>\n",
       "      <td>Jamie Feldman</td>\n",
       "      <td>130</td>\n",
       "    </tr>\n",
       "    <tr>\n",
       "      <th>34944</th>\n",
       "      <td>2014</td>\n",
       "      <td>Chanel Parks</td>\n",
       "      <td>92</td>\n",
       "    </tr>\n",
       "    <tr>\n",
       "      <th>34940</th>\n",
       "      <td>2014</td>\n",
       "      <td>Julie R. Thomson</td>\n",
       "      <td>90</td>\n",
       "    </tr>\n",
       "    <tr>\n",
       "      <th>35183</th>\n",
       "      <td>2013</td>\n",
       "      <td>Reuters, Reuters</td>\n",
       "      <td>681</td>\n",
       "    </tr>\n",
       "    <tr>\n",
       "      <th>35179</th>\n",
       "      <td>2013</td>\n",
       "      <td>Michelle Manetti</td>\n",
       "      <td>555</td>\n",
       "    </tr>\n",
       "    <tr>\n",
       "      <th>35168</th>\n",
       "      <td>2013</td>\n",
       "      <td>Rebecca Adams</td>\n",
       "      <td>342</td>\n",
       "    </tr>\n",
       "    <tr>\n",
       "      <th>35162</th>\n",
       "      <td>2013</td>\n",
       "      <td>Dana Oliver</td>\n",
       "      <td>317</td>\n",
       "    </tr>\n",
       "    <tr>\n",
       "      <th>35153</th>\n",
       "      <td>2013</td>\n",
       "      <td>Michelle Persad</td>\n",
       "      <td>295</td>\n",
       "    </tr>\n",
       "    <tr>\n",
       "      <th>35184</th>\n",
       "      <td>2012</td>\n",
       "      <td>Reuters, Reuters</td>\n",
       "      <td>712</td>\n",
       "    </tr>\n",
       "    <tr>\n",
       "      <th>35175</th>\n",
       "      <td>2012</td>\n",
       "      <td>Ellie Krupnick</td>\n",
       "      <td>495</td>\n",
       "    </tr>\n",
       "    <tr>\n",
       "      <th>35170</th>\n",
       "      <td>2012</td>\n",
       "      <td>Sarah Leon</td>\n",
       "      <td>387</td>\n",
       "    </tr>\n",
       "    <tr>\n",
       "      <th>35163</th>\n",
       "      <td>2012</td>\n",
       "      <td>Michelle Manetti</td>\n",
       "      <td>321</td>\n",
       "    </tr>\n",
       "    <tr>\n",
       "      <th>35160</th>\n",
       "      <td>2012</td>\n",
       "      <td>Jessica Misener</td>\n",
       "      <td>314</td>\n",
       "    </tr>\n",
       "  </tbody>\n",
       "</table>\n",
       "</div>"
      ],
      "text/plain": [
       "       year            authors  count\n",
       "35182  2018          Lee Moran    634\n",
       "35173  2018           Ed Mazza    402\n",
       "35171  2018         Ron Dicker    390\n",
       "35156  2018     Mary Papenfuss    306\n",
       "35142  2018     Jenna Amatulli    269\n",
       "35186  2017          Lee Moran    867\n",
       "35181  2017     Mary Papenfuss    614\n",
       "35176  2017         Ron Dicker    505\n",
       "35172  2017           Ed Mazza    392\n",
       "35167  2017   Caroline Bologna    341\n",
       "35185  2016          Lee Moran    818\n",
       "35180  2016       Cole Delbyck    556\n",
       "35178  2016         Ron Dicker    545\n",
       "35177  2016  Julia Brucculieri    544\n",
       "35174  2016    Carly Ledbetter    440\n",
       "35159  2015  Julia Brucculieri    313\n",
       "35124  2015       Bill Bradley    231\n",
       "35123  2015        Lily Karlin    226\n",
       "35118  2015         Ron Dicker    211\n",
       "35092  2015      Andy McDonald    185\n",
       "35082  2014   Reuters, Reuters    167\n",
       "35033  2014        Dana Oliver    131\n",
       "35030  2014      Jamie Feldman    130\n",
       "34944  2014       Chanel Parks     92\n",
       "34940  2014   Julie R. Thomson     90\n",
       "35183  2013   Reuters, Reuters    681\n",
       "35179  2013   Michelle Manetti    555\n",
       "35168  2013      Rebecca Adams    342\n",
       "35162  2013        Dana Oliver    317\n",
       "35153  2013    Michelle Persad    295\n",
       "35184  2012   Reuters, Reuters    712\n",
       "35175  2012     Ellie Krupnick    495\n",
       "35170  2012         Sarah Leon    387\n",
       "35163  2012   Michelle Manetti    321\n",
       "35160  2012    Jessica Misener    314"
      ]
     },
     "execution_count": 192,
     "metadata": {},
     "output_type": "execute_result"
    }
   ],
   "source": [
    "count_series.sort_values(['year', 'count'],  ascending = [False, False]).groupby('year').head(5) "
   ]
  },
  {
   "cell_type": "markdown",
   "metadata": {},
   "source": [
    "### Some usefull information"
   ]
  },
  {
   "cell_type": "markdown",
   "metadata": {},
   "source": [
    "Since 2015 Lee Moran is the TOP author with more than 20% publications over the second in the list."
   ]
  },
  {
   "cell_type": "markdown",
   "metadata": {},
   "source": [
    "Some authors left TOP 5 list since 2015, although some of them are in the highest overall position (e.g. Reuters)"
   ]
  },
  {
   "cell_type": "code",
   "execution_count": 193,
   "metadata": {},
   "outputs": [
    {
     "data": {
      "text/html": [
       "<div>\n",
       "<style scoped>\n",
       "    .dataframe tbody tr th:only-of-type {\n",
       "        vertical-align: middle;\n",
       "    }\n",
       "\n",
       "    .dataframe tbody tr th {\n",
       "        vertical-align: top;\n",
       "    }\n",
       "\n",
       "    .dataframe thead th {\n",
       "        text-align: right;\n",
       "    }\n",
       "</style>\n",
       "<table border=\"1\" class=\"dataframe\">\n",
       "  <thead>\n",
       "    <tr style=\"text-align: right;\">\n",
       "      <th></th>\n",
       "      <th>category</th>\n",
       "      <th>head_descr</th>\n",
       "    </tr>\n",
       "  </thead>\n",
       "  <tbody>\n",
       "    <tr>\n",
       "      <th>0</th>\n",
       "      <td>CRIME</td>\n",
       "      <td>there were 2 mass shootings in teas last week,...</td>\n",
       "    </tr>\n",
       "    <tr>\n",
       "      <th>1</th>\n",
       "      <td>ENTERTAINMENT</td>\n",
       "      <td>hugh grant marries for the first time at age 5...</td>\n",
       "    </tr>\n",
       "    <tr>\n",
       "      <th>2</th>\n",
       "      <td>ENTERTAINMENT</td>\n",
       "      <td>jim carrey blasts 'castrato' adam schiff and d...</td>\n",
       "    </tr>\n",
       "    <tr>\n",
       "      <th>3</th>\n",
       "      <td>ENTERTAINMENT</td>\n",
       "      <td>julianna margulies uses donald trump poop bags...</td>\n",
       "    </tr>\n",
       "    <tr>\n",
       "      <th>4</th>\n",
       "      <td>ENTERTAINMENT</td>\n",
       "      <td>morgan freeman 'devastated' that seual harassm...</td>\n",
       "    </tr>\n",
       "    <tr>\n",
       "      <th>5</th>\n",
       "      <td>ENTERTAINMENT</td>\n",
       "      <td>donald trump is lovin' new mcdonald's jingle i...</td>\n",
       "    </tr>\n",
       "    <tr>\n",
       "      <th>6</th>\n",
       "      <td>ENTERTAINMENT</td>\n",
       "      <td>what to watch on amazon prime that’s new this ...</td>\n",
       "    </tr>\n",
       "    <tr>\n",
       "      <th>7</th>\n",
       "      <td>ENTERTAINMENT</td>\n",
       "      <td>mike myers reveals he'd 'like to' do a fourth ...</td>\n",
       "    </tr>\n",
       "    <tr>\n",
       "      <th>8</th>\n",
       "      <td>ENTERTAINMENT</td>\n",
       "      <td>what to watch on hulu that’s new this week you...</td>\n",
       "    </tr>\n",
       "    <tr>\n",
       "      <th>9</th>\n",
       "      <td>ENTERTAINMENT</td>\n",
       "      <td>justin timberlake visits teas school shooting ...</td>\n",
       "    </tr>\n",
       "  </tbody>\n",
       "</table>\n",
       "</div>"
      ],
      "text/plain": [
       "        category                                         head_descr\n",
       "0          CRIME  there were 2 mass shootings in teas last week,...\n",
       "1  ENTERTAINMENT  hugh grant marries for the first time at age 5...\n",
       "2  ENTERTAINMENT  jim carrey blasts 'castrato' adam schiff and d...\n",
       "3  ENTERTAINMENT  julianna margulies uses donald trump poop bags...\n",
       "4  ENTERTAINMENT  morgan freeman 'devastated' that seual harassm...\n",
       "5  ENTERTAINMENT  donald trump is lovin' new mcdonald's jingle i...\n",
       "6  ENTERTAINMENT  what to watch on amazon prime that’s new this ...\n",
       "7  ENTERTAINMENT  mike myers reveals he'd 'like to' do a fourth ...\n",
       "8  ENTERTAINMENT  what to watch on hulu that’s new this week you...\n",
       "9  ENTERTAINMENT  justin timberlake visits teas school shooting ..."
      ]
     },
     "execution_count": 193,
     "metadata": {},
     "output_type": "execute_result"
    }
   ],
   "source": [
    "dfReference = df.copy()\n",
    "df.drop(['headline', 'authors', 'link', 'short_description', 'date', 'year'], axis=1, inplace=True)\n",
    "df.head(10)"
   ]
  },
  {
   "cell_type": "markdown",
   "metadata": {},
   "source": [
    "# Exporting DataFrame to be used by classification scripts"
   ]
  },
  {
   "cell_type": "code",
   "execution_count": 195,
   "metadata": {},
   "outputs": [],
   "source": [
    "df.to_csv('ds_cat_head_descr.csv', index=False)"
   ]
  },
  {
   "cell_type": "code",
   "execution_count": null,
   "metadata": {},
   "outputs": [],
   "source": []
  }
 ],
 "metadata": {
  "kernelspec": {
   "display_name": "Python 3",
   "language": "python",
   "name": "python3"
  },
  "language_info": {
   "codemirror_mode": {
    "name": "ipython",
    "version": 3
   },
   "file_extension": ".py",
   "mimetype": "text/x-python",
   "name": "python",
   "nbconvert_exporter": "python",
   "pygments_lexer": "ipython3",
   "version": "3.7.6"
  }
 },
 "nbformat": 4,
 "nbformat_minor": 2
}
